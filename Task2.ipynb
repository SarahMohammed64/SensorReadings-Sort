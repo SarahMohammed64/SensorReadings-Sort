{
  "cells": [
    {
      "cell_type": "code",
      "execution_count": null,
      "metadata": {
        "colab": {
          "base_uri": "https://localhost:8080/"
        },
        "id": "AcuXf5tuigr_",
        "outputId": "736b11ac-a62d-4a9e-ba8f-8b04df865980"
      },
      "outputs": [
        {
          "name": "stdout",
          "output_type": "stream",
          "text": [
            "Readings within range: ['Reading-10', 'Reading-12', 'Reading-15']\n"
          ]
        }
      ],
      "source": [
        "#attempt\n",
        "class SensorDataNode:\n",
        "    def __init__(self, timestamp, reading):\n",
        "        self.timestamp = timestamp\n",
        "        self.reading = reading\n",
        "        #self.values = values\n",
        "        self.left = None\n",
        "        self.right = None\n",
        "\n",
        "def get_readings_in_range(node, start_time, end_time):\n",
        "    readings = []\n",
        "    values = []\n",
        "\n",
        "    if node is None:\n",
        "        return readings\n",
        "\n",
        "    if node.timestamp > start_time:\n",
        "        readings = get_readings_in_range(node.left, start_time, end_time)\n",
        "        values = get_readings_in_range(node.left, start_time, end_time)\n",
        "\n",
        "\n",
        "    if node.timestamp < end_time:\n",
        "        readings += get_readings_in_range(node.right, start_time, end_time)\n",
        "        values += get_readings_in_range(node.right, start_time, end_time)\n",
        "\n",
        "\n",
        "    if start_time <= node.timestamp <= end_time:\n",
        "        readings.append(node.reading)\n",
        "        values.append(node.timestamp)\n",
        "        exit()\n",
        "\n",
        "    values.sort()\n",
        "    return values\n",
        "\n",
        "#          10\n",
        "#         /  \\\n",
        "#        5    15\n",
        "#            /  \\\n",
        "#          12    20\n",
        "\n",
        "root = SensorDataNode(10, 'Reading-10')\n",
        "root.left = SensorDataNode(5, 'Reading-5')\n",
        "root.right = SensorDataNode(15, 'Reading-15')\n",
        "root.right.left = SensorDataNode(12, 'Reading-12')\n",
        "root.right.right = SensorDataNode(20, 'Reading-20')\n",
        "\n",
        "# Define time range [10, 15] inclusive.\n",
        "start_time = 10\n",
        "end_time = 15\n",
        "\n",
        "readings_in_range = get_readings_in_range(root, start_time, end_time)\n",
        "reading = []\n",
        "dic = {10 :'Reading-10' ,12:'Reading-12',15:'Reading-15'\n",
        "       }\n",
        "for value in readings_in_range:\n",
        "  reading.append(dic.get(value))\n",
        "\n",
        "readings_in_range= reading.copy()\n",
        "#print-att\n",
        "print(\"Readings within range:\", readings_in_range)"
      ]
    },
    {
      "cell_type": "code",
      "execution_count": null,
      "metadata": {
        "id": "rsY2KibItllZ"
      },
      "outputs": [],
      "source": []
    }
  ],
  "metadata": {
    "colab": {
      "provenance": []
    },
    "kernelspec": {
      "display_name": "base",
      "language": "python",
      "name": "python3"
    },
    "language_info": {
      "name": "python",
      "version": "3.11.7"
    }
  },
  "nbformat": 4,
  "nbformat_minor": 0
}
